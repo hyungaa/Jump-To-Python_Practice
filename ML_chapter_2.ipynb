{
  "nbformat": 4,
  "nbformat_minor": 0,
  "metadata": {
    "colab": {
      "name": "ML_chapter_2.ipynb",
      "provenance": [],
      "collapsed_sections": [],
      "toc_visible": true,
      "include_colab_link": true
    },
    "kernelspec": {
      "name": "python3",
      "display_name": "Python 3"
    }
  },
  "cells": [
    {
      "cell_type": "markdown",
      "metadata": {
        "id": "view-in-github",
        "colab_type": "text"
      },
      "source": [
        "<a href=\"https://colab.research.google.com/github/hyungaa/Jump-To-Python_Practice/blob/master/ML_chapter_2.ipynb\" target=\"_parent\"><img src=\"https://colab.research.google.com/assets/colab-badge.svg\" alt=\"Open In Colab\"/></a>"
      ]
    },
    {
      "cell_type": "markdown",
      "metadata": {
        "id": "WIGDIZu8f42L",
        "colab_type": "text"
      },
      "source": [
        "# **제2강 파이썬 기본 문법 맛보기**"
      ]
    },
    {
      "cell_type": "markdown",
      "metadata": {
        "id": "gNuDtZdHEv2T",
        "colab_type": "text"
      },
      "source": [
        "# **1. 변수/데이터형**"
      ]
    },
    {
      "cell_type": "markdown",
      "metadata": {
        "id": "saEzXlIyEkOj",
        "colab_type": "text"
      },
      "source": [
        "**변수 만들기(두 수 더하기)**"
      ]
    },
    {
      "cell_type": "code",
      "metadata": {
        "id": "33N5yi6TEnTf",
        "colab_type": "code",
        "colab": {
          "base_uri": "https://localhost:8080/",
          "height": 35
        },
        "outputId": "0cc7c7ae-95dc-4ba5-f156-a5f091009e51"
      },
      "source": [
        "a = 20\n",
        "b = 30\n",
        "c = a + b\n",
        "\n",
        "print(c)"
      ],
      "execution_count": null,
      "outputs": [
        {
          "output_type": "stream",
          "text": [
            "50\n"
          ],
          "name": "stdout"
        }
      ]
    },
    {
      "cell_type": "markdown",
      "metadata": {
        "id": "sp7EeamoE4AJ",
        "colab_type": "text"
      },
      "source": [
        "**변수 이름 만들기**"
      ]
    },
    {
      "cell_type": "code",
      "metadata": {
        "id": "qZhUvR6sE6Lb",
        "colab_type": "code",
        "colab": {
          "base_uri": "https://localhost:8080/",
          "height": 35
        },
        "outputId": "d84a9b8d-8550-4c1c-cd28-fb77684f3d45"
      },
      "source": [
        "x = 20\n",
        "Computer = 'Mac'\n",
        "Age = 30\n",
        "my_score = 70\n",
        "_name = '홍길동'\n",
        "myBirthYear = 1997\n",
        "data2 = 20.3\n",
        "\n",
        "print(x, Computer, Age, my_score, _name, myBirthYear, data2)"
      ],
      "execution_count": null,
      "outputs": [
        {
          "output_type": "stream",
          "text": [
            "20 Mac 30 70 홍길동 1997 20.3\n"
          ],
          "name": "stdout"
        }
      ]
    },
    {
      "cell_type": "markdown",
      "metadata": {
        "id": "p23WnYiaFFnI",
        "colab_type": "text"
      },
      "source": [
        "**잘못된 변수 명**"
      ]
    },
    {
      "cell_type": "code",
      "metadata": {
        "id": "DJtBsV5RFH_H",
        "colab_type": "code",
        "colab": {
          "base_uri": "https://localhost:8080/",
          "height": 136
        },
        "outputId": "12acc71c-190d-40ab-a10c-c4989e101528"
      },
      "source": [
        "#오류 발생\n",
        "eng score = 90\n",
        "7font = '굴림'\n",
        "My-age = 20\n",
        "percent% = 100\n",
        "animal# = '사슴' "
      ],
      "execution_count": null,
      "outputs": [
        {
          "output_type": "error",
          "ename": "SyntaxError",
          "evalue": "ignored",
          "traceback": [
            "\u001b[0;36m  File \u001b[0;32m\"<ipython-input-3-cc22c9658a0f>\"\u001b[0;36m, line \u001b[0;32m2\u001b[0m\n\u001b[0;31m    eng score = 90\u001b[0m\n\u001b[0m            ^\u001b[0m\n\u001b[0;31mSyntaxError\u001b[0m\u001b[0;31m:\u001b[0m invalid syntax\n"
          ]
        }
      ]
    },
    {
      "cell_type": "markdown",
      "metadata": {
        "id": "NEIVGdWLFjwI",
        "colab_type": "text"
      },
      "source": [
        "**정수형**"
      ]
    },
    {
      "cell_type": "code",
      "metadata": {
        "id": "gfYDeop1Fmb6",
        "colab_type": "code",
        "colab": {
          "base_uri": "https://localhost:8080/",
          "height": 53
        },
        "outputId": "7c304a89-0dc1-46b1-a147-3b7468efe500"
      },
      "source": [
        "x = 40\n",
        "print(x)\n",
        "print(type(x))"
      ],
      "execution_count": null,
      "outputs": [
        {
          "output_type": "stream",
          "text": [
            "40\n",
            "<class 'int'>\n"
          ],
          "name": "stdout"
        }
      ]
    },
    {
      "cell_type": "markdown",
      "metadata": {
        "id": "0-ppGOy-Fxwb",
        "colab_type": "text"
      },
      "source": [
        "**실수형**"
      ]
    },
    {
      "cell_type": "code",
      "metadata": {
        "id": "0UD9jPHXF5WT",
        "colab_type": "code",
        "colab": {
          "base_uri": "https://localhost:8080/",
          "height": 53
        },
        "outputId": "2a3b65ef-0211-4193-9147-3d52702f780c"
      },
      "source": [
        "x = 4.3244\n",
        "y = 4/2\n",
        "print(x, y)\n",
        "print(type(x), type(y))"
      ],
      "execution_count": null,
      "outputs": [
        {
          "output_type": "stream",
          "text": [
            "4.3244 2.0\n",
            "<class 'float'> <class 'float'>\n"
          ],
          "name": "stdout"
        }
      ]
    },
    {
      "cell_type": "markdown",
      "metadata": {
        "id": "j1al1u3oF_88",
        "colab_type": "text"
      },
      "source": [
        "**문자열의 데이터형**"
      ]
    },
    {
      "cell_type": "code",
      "metadata": {
        "id": "zYY9JWNwGCDU",
        "colab_type": "code",
        "colab": {
          "base_uri": "https://localhost:8080/",
          "height": 89
        },
        "outputId": "acabef35-c66f-4984-e838-caeb5ca9ee51"
      },
      "source": [
        "a = '책'\n",
        "b = 'hello world'\n",
        "c = \"파이썬\"\n",
        "\n",
        "print(a)\n",
        "print(b)\n",
        "print(c)\n",
        "print(type(c))"
      ],
      "execution_count": null,
      "outputs": [
        {
          "output_type": "stream",
          "text": [
            "책\n",
            "hello world\n",
            "파이썬\n",
            "<class 'str'>\n"
          ],
          "name": "stdout"
        }
      ]
    },
    {
      "cell_type": "markdown",
      "metadata": {
        "id": "E08vrv3JGIYT",
        "colab_type": "text"
      },
      "source": [
        "**10과 '10'의 차이**"
      ]
    },
    {
      "cell_type": "code",
      "metadata": {
        "id": "4mVvSMmKGLtw",
        "colab_type": "code",
        "colab": {
          "base_uri": "https://localhost:8080/",
          "height": 89
        },
        "outputId": "1873ee94-d28e-4320-abbe-c3ae13e5fe48"
      },
      "source": [
        "a = 10\n",
        "print(a)\n",
        "print(type(a))\n",
        "\n",
        "b = '10'\n",
        "print(b)\n",
        "print(type(b))"
      ],
      "execution_count": null,
      "outputs": [
        {
          "output_type": "stream",
          "text": [
            "10\n",
            "<class 'int'>\n",
            "10\n",
            "<class 'str'>\n"
          ],
          "name": "stdout"
        }
      ]
    },
    {
      "cell_type": "markdown",
      "metadata": {
        "id": "yYNx4cimGQrg",
        "colab_type": "text"
      },
      "source": [
        "**불 데이터형**"
      ]
    },
    {
      "cell_type": "code",
      "metadata": {
        "id": "NqhSs3HlGTGn",
        "colab_type": "code",
        "colab": {
          "base_uri": "https://localhost:8080/",
          "height": 89
        },
        "outputId": "2916c0d6-f318-43f3-bc4e-a71f6bfdd028"
      },
      "source": [
        "a = True\n",
        "b = False\n",
        "print(a)\n",
        "print(b)\n",
        "\n",
        "c = 20 < 30\n",
        "print(c)\n",
        "\n",
        "print(type(a))"
      ],
      "execution_count": null,
      "outputs": [
        {
          "output_type": "stream",
          "text": [
            "True\n",
            "False\n",
            "True\n",
            "<class 'bool'>\n"
          ],
          "name": "stdout"
        }
      ]
    },
    {
      "cell_type": "markdown",
      "metadata": {
        "id": "bYBLFshvGdYj",
        "colab_type": "text"
      },
      "source": [
        "# **2. 숫자 연산/문자열 처리**"
      ]
    },
    {
      "cell_type": "markdown",
      "metadata": {
        "id": "I8f_z1O7G6rI",
        "colab_type": "text"
      },
      "source": [
        "**사칙연산자**"
      ]
    },
    {
      "cell_type": "code",
      "metadata": {
        "id": "6jN6LGEmG2w-",
        "colab_type": "code",
        "colab": {
          "base_uri": "https://localhost:8080/",
          "height": 35
        },
        "outputId": "12b0df94-da7b-48f5-d9f4-fbb8110bbbb1"
      },
      "source": [
        "a = 10\n",
        "b = 20\n",
        "\n",
        "c = a + b * 10 - 5 / 5\n",
        "print(c)"
      ],
      "execution_count": null,
      "outputs": [
        {
          "output_type": "stream",
          "text": [
            "209.0\n"
          ],
          "name": "stdout"
        }
      ]
    },
    {
      "cell_type": "markdown",
      "metadata": {
        "id": "zREGEyc-HC94",
        "colab_type": "text"
      },
      "source": [
        "나머지와 몫 연산자"
      ]
    },
    {
      "cell_type": "code",
      "metadata": {
        "id": "MEtI3HfKG_rR",
        "colab_type": "code",
        "colab": {
          "base_uri": "https://localhost:8080/",
          "height": 53
        },
        "outputId": "258c8f22-d9d2-418a-d23d-780b16ddf2b1"
      },
      "source": [
        "x = 10 % 3\n",
        "print(x)\n",
        " \n",
        "y = 7//3\n",
        "print(y)"
      ],
      "execution_count": null,
      "outputs": [
        {
          "output_type": "stream",
          "text": [
            "1\n",
            "2\n"
          ],
          "name": "stdout"
        }
      ]
    },
    {
      "cell_type": "markdown",
      "metadata": {
        "id": "LhnkRD5kHNgD",
        "colab_type": "text"
      },
      "source": [
        "**거듭제곱 연산자**"
      ]
    },
    {
      "cell_type": "code",
      "metadata": {
        "id": "aa2D6O58HPQC",
        "colab_type": "code",
        "colab": {
          "base_uri": "https://localhost:8080/",
          "height": 53
        },
        "outputId": "ad442511-7e26-4466-90ac-da5e1b467065"
      },
      "source": [
        "x = 3**3\n",
        "print(x)\n",
        "\n",
        "y = 2**4\n",
        "print(y)"
      ],
      "execution_count": null,
      "outputs": [
        {
          "output_type": "stream",
          "text": [
            "27\n",
            "16\n"
          ],
          "name": "stdout"
        }
      ]
    },
    {
      "cell_type": "markdown",
      "metadata": {
        "id": "kf1dNn3vH5Xa",
        "colab_type": "text"
      },
      "source": [
        "**할당 연산자**"
      ]
    },
    {
      "cell_type": "code",
      "metadata": {
        "id": "EdanCccAH13o",
        "colab_type": "code",
        "colab": {
          "base_uri": "https://localhost:8080/",
          "height": 35
        },
        "outputId": "22f5b27f-a9a0-4e61-c236-9fc4ec9b78c7"
      },
      "source": [
        "x = 20\n",
        "x += 30    # x = x + 30 과 동일\n",
        "print(x)"
      ],
      "execution_count": null,
      "outputs": [
        {
          "output_type": "stream",
          "text": [
            "50\n"
          ],
          "name": "stdout"
        }
      ]
    },
    {
      "cell_type": "code",
      "metadata": {
        "id": "cQTIEi4MIPdu",
        "colab_type": "code",
        "colab": {
          "base_uri": "https://localhost:8080/",
          "height": 35
        },
        "outputId": "67c6f112-744f-44c3-efc2-b6afc6647b86"
      },
      "source": [
        "x = 4\n",
        "y = 5\n",
        "x *= x + y   # x = x * (x + y)과 동일\n",
        "print(x)"
      ],
      "execution_count": null,
      "outputs": [
        {
          "output_type": "stream",
          "text": [
            "36\n"
          ],
          "name": "stdout"
        }
      ]
    },
    {
      "cell_type": "markdown",
      "metadata": {
        "id": "3MAV5445IfAj",
        "colab_type": "text"
      },
      "source": [
        "**문자열 길이 구하기**"
      ]
    },
    {
      "cell_type": "code",
      "metadata": {
        "id": "KTNl6yiBIatV",
        "colab_type": "code",
        "colab": {
          "base_uri": "https://localhost:8080/",
          "height": 35
        },
        "outputId": "e41387f8-0f89-4ff6-ac05-04fea892b5ee"
      },
      "source": [
        "a = '파이썬은 진짜 좋아요!'\n",
        "b = len(a)\n",
        "print(b)"
      ],
      "execution_count": null,
      "outputs": [
        {
          "output_type": "stream",
          "text": [
            "12\n"
          ],
          "name": "stdout"
        }
      ]
    },
    {
      "cell_type": "markdown",
      "metadata": {
        "id": "JNyogNuxIhTX",
        "colab_type": "text"
      },
      "source": [
        "**문자열 연결하기**"
      ]
    },
    {
      "cell_type": "code",
      "metadata": {
        "id": "TH03RMdPImo-",
        "colab_type": "code",
        "colab": {
          "base_uri": "https://localhost:8080/",
          "height": 35
        },
        "outputId": "4c214baf-5f90-4d88-fc88-36d08d423d21"
      },
      "source": [
        "name = '파이썬'\n",
        "connect = name + '_머신러닝'\n",
        "print(connect)"
      ],
      "execution_count": null,
      "outputs": [
        {
          "output_type": "stream",
          "text": [
            "파이썬_머신러닝\n"
          ],
          "name": "stdout"
        }
      ]
    },
    {
      "cell_type": "markdown",
      "metadata": {
        "id": "p0qv9PaHIvkg",
        "colab_type": "text"
      },
      "source": [
        "**문자열 포매팅**"
      ]
    },
    {
      "cell_type": "code",
      "metadata": {
        "id": "f-gNsTUqIswu",
        "colab_type": "code",
        "colab": {
          "base_uri": "https://localhost:8080/",
          "height": 35
        },
        "outputId": "0bcc3769-bcea-45a4-ac51-ad7e0b8993f6"
      },
      "source": [
        "name = '김고려'\n",
        "a = '내 이름은 %s입니다.' % name\n",
        "print(a)"
      ],
      "execution_count": null,
      "outputs": [
        {
          "output_type": "stream",
          "text": [
            "내 이름은 김고려입니다.\n"
          ],
          "name": "stdout"
        }
      ]
    },
    {
      "cell_type": "code",
      "metadata": {
        "id": "HVhDPjM7I6eg",
        "colab_type": "code",
        "colab": {
          "base_uri": "https://localhost:8080/",
          "height": 53
        },
        "outputId": "1872cb53-10fa-481c-e5d0-5d7fd83e84cf"
      },
      "source": [
        "temp_1 = 25\n",
        "temp_2 = 2.32\n",
        "seoul_temp = '서울의 기온은 %d도입니다.' % temp_1\n",
        "us_temp = '미국의 기온은 %.2f도입니다.' % temp_2\n",
        "print(seoul_temp)\n",
        "print(us_temp)"
      ],
      "execution_count": null,
      "outputs": [
        {
          "output_type": "stream",
          "text": [
            "서울의 기온은 25도입니다.\n",
            "미국의 기온은 2.32도입니다.\n"
          ],
          "name": "stdout"
        }
      ]
    },
    {
      "cell_type": "code",
      "metadata": {
        "id": "znqF3IDkJDBF",
        "colab_type": "code",
        "colab": {
          "base_uri": "https://localhost:8080/",
          "height": 71
        },
        "outputId": "77b0ebce-38a1-4e43-cf61-f4b83b38dce6"
      },
      "source": [
        "name = '고려사이버대학교'\n",
        "year = 20\n",
        "student = 10000\n",
        "\n",
        "a = '학교명 : {}'.format(name)\n",
        "b = '역사 : {}년'.format(year)\n",
        "c = '학생수 : {}명'.format(student)\n",
        "\n",
        "print(a)\n",
        "print(b)\n",
        "print(c)"
      ],
      "execution_count": null,
      "outputs": [
        {
          "output_type": "stream",
          "text": [
            "학교명 : 고려사이버대학교\n",
            "역사 : 20년\n",
            "학생수 : 10000명\n"
          ],
          "name": "stdout"
        }
      ]
    },
    {
      "cell_type": "markdown",
      "metadata": {
        "id": "FnsPMsbHJXPX",
        "colab_type": "text"
      },
      "source": [
        "# **3. 입력과 출력**"
      ]
    },
    {
      "cell_type": "markdown",
      "metadata": {
        "id": "YDqBR8E4JeUT",
        "colab_type": "text"
      },
      "source": [
        "**입력을 위한 함수**"
      ]
    },
    {
      "cell_type": "code",
      "metadata": {
        "id": "RwsdIEIgJgB6",
        "colab_type": "code",
        "colab": {
          "base_uri": "https://localhost:8080/",
          "height": 53
        },
        "outputId": "2fe20900-a225-4821-9baf-627382fe7a31"
      },
      "source": [
        "name = input('이름을 입력하세요 : ')\n",
        "print('%s님 환영합니다.' % name)"
      ],
      "execution_count": null,
      "outputs": [
        {
          "output_type": "stream",
          "text": [
            "이름을 입력하세요 : 김이박\n",
            "김이박님 환영합니다.\n"
          ],
          "name": "stdout"
        }
      ]
    },
    {
      "cell_type": "markdown",
      "metadata": {
        "id": "Ni9PiiCyJnri",
        "colab_type": "text"
      },
      "source": [
        "**입력받은 수 다루기**"
      ]
    },
    {
      "cell_type": "code",
      "metadata": {
        "id": "kn36MmGusAv3",
        "colab_type": "code",
        "colab": {
          "base_uri": "https://localhost:8080/",
          "height": 556
        },
        "outputId": "586bcaee-334a-4b02-bcb6-149d1b2d1bfd"
      },
      "source": [
        "a = input('첫 번째 숫자를 입력하세요 : ')\n",
        "b = input('두 번째 숫자를 입력하세요 : ')\n",
        "c = input('세 번째 숫자를 입력하세요 : ')\n",
        "d = input('네 번째 숫자를 입력하세요 : ')\n",
        "\n",
        "e = a+b\n",
        "f = int(a) + int(b)\n",
        "g = c+d\n",
        "\n",
        "print(e)\n",
        "print(f)\n",
        "print(g)\n"
      ],
      "execution_count": null,
      "outputs": [
        {
          "output_type": "error",
          "ename": "KeyboardInterrupt",
          "evalue": "ignored",
          "traceback": [
            "\u001b[0;31m---------------------------------------------------------------------------\u001b[0m",
            "\u001b[0;31mKeyboardInterrupt\u001b[0m                         Traceback (most recent call last)",
            "\u001b[0;32m/usr/local/lib/python3.6/dist-packages/ipykernel/kernelbase.py\u001b[0m in \u001b[0;36m_input_request\u001b[0;34m(self, prompt, ident, parent, password)\u001b[0m\n\u001b[1;32m    728\u001b[0m             \u001b[0;32mtry\u001b[0m\u001b[0;34m:\u001b[0m\u001b[0;34m\u001b[0m\u001b[0;34m\u001b[0m\u001b[0m\n\u001b[0;32m--> 729\u001b[0;31m                 \u001b[0mident\u001b[0m\u001b[0;34m,\u001b[0m \u001b[0mreply\u001b[0m \u001b[0;34m=\u001b[0m \u001b[0mself\u001b[0m\u001b[0;34m.\u001b[0m\u001b[0msession\u001b[0m\u001b[0;34m.\u001b[0m\u001b[0mrecv\u001b[0m\u001b[0;34m(\u001b[0m\u001b[0mself\u001b[0m\u001b[0;34m.\u001b[0m\u001b[0mstdin_socket\u001b[0m\u001b[0;34m,\u001b[0m \u001b[0;36m0\u001b[0m\u001b[0;34m)\u001b[0m\u001b[0;34m\u001b[0m\u001b[0;34m\u001b[0m\u001b[0m\n\u001b[0m\u001b[1;32m    730\u001b[0m             \u001b[0;32mexcept\u001b[0m \u001b[0mException\u001b[0m\u001b[0;34m:\u001b[0m\u001b[0;34m\u001b[0m\u001b[0;34m\u001b[0m\u001b[0m\n",
            "\u001b[0;32m/usr/local/lib/python3.6/dist-packages/jupyter_client/session.py\u001b[0m in \u001b[0;36mrecv\u001b[0;34m(self, socket, mode, content, copy)\u001b[0m\n\u001b[1;32m    802\u001b[0m         \u001b[0;32mtry\u001b[0m\u001b[0;34m:\u001b[0m\u001b[0;34m\u001b[0m\u001b[0;34m\u001b[0m\u001b[0m\n\u001b[0;32m--> 803\u001b[0;31m             \u001b[0mmsg_list\u001b[0m \u001b[0;34m=\u001b[0m \u001b[0msocket\u001b[0m\u001b[0;34m.\u001b[0m\u001b[0mrecv_multipart\u001b[0m\u001b[0;34m(\u001b[0m\u001b[0mmode\u001b[0m\u001b[0;34m,\u001b[0m \u001b[0mcopy\u001b[0m\u001b[0;34m=\u001b[0m\u001b[0mcopy\u001b[0m\u001b[0;34m)\u001b[0m\u001b[0;34m\u001b[0m\u001b[0;34m\u001b[0m\u001b[0m\n\u001b[0m\u001b[1;32m    804\u001b[0m         \u001b[0;32mexcept\u001b[0m \u001b[0mzmq\u001b[0m\u001b[0;34m.\u001b[0m\u001b[0mZMQError\u001b[0m \u001b[0;32mas\u001b[0m \u001b[0me\u001b[0m\u001b[0;34m:\u001b[0m\u001b[0;34m\u001b[0m\u001b[0;34m\u001b[0m\u001b[0m\n",
            "\u001b[0;32m/usr/local/lib/python3.6/dist-packages/zmq/sugar/socket.py\u001b[0m in \u001b[0;36mrecv_multipart\u001b[0;34m(self, flags, copy, track)\u001b[0m\n\u001b[1;32m    490\u001b[0m         \"\"\"\n\u001b[0;32m--> 491\u001b[0;31m         \u001b[0mparts\u001b[0m \u001b[0;34m=\u001b[0m \u001b[0;34m[\u001b[0m\u001b[0mself\u001b[0m\u001b[0;34m.\u001b[0m\u001b[0mrecv\u001b[0m\u001b[0;34m(\u001b[0m\u001b[0mflags\u001b[0m\u001b[0;34m,\u001b[0m \u001b[0mcopy\u001b[0m\u001b[0;34m=\u001b[0m\u001b[0mcopy\u001b[0m\u001b[0;34m,\u001b[0m \u001b[0mtrack\u001b[0m\u001b[0;34m=\u001b[0m\u001b[0mtrack\u001b[0m\u001b[0;34m)\u001b[0m\u001b[0;34m]\u001b[0m\u001b[0;34m\u001b[0m\u001b[0;34m\u001b[0m\u001b[0m\n\u001b[0m\u001b[1;32m    492\u001b[0m         \u001b[0;31m# have first part already, only loop while more to receive\u001b[0m\u001b[0;34m\u001b[0m\u001b[0;34m\u001b[0m\u001b[0;34m\u001b[0m\u001b[0m\n",
            "\u001b[0;32mzmq/backend/cython/socket.pyx\u001b[0m in \u001b[0;36mzmq.backend.cython.socket.Socket.recv\u001b[0;34m()\u001b[0m\n",
            "\u001b[0;32mzmq/backend/cython/socket.pyx\u001b[0m in \u001b[0;36mzmq.backend.cython.socket.Socket.recv\u001b[0;34m()\u001b[0m\n",
            "\u001b[0;32mzmq/backend/cython/socket.pyx\u001b[0m in \u001b[0;36mzmq.backend.cython.socket._recv_copy\u001b[0;34m()\u001b[0m\n",
            "\u001b[0;32m/usr/local/lib/python3.6/dist-packages/zmq/backend/cython/checkrc.pxd\u001b[0m in \u001b[0;36mzmq.backend.cython.checkrc._check_rc\u001b[0;34m()\u001b[0m\n",
            "\u001b[0;31mKeyboardInterrupt\u001b[0m: ",
            "\nDuring handling of the above exception, another exception occurred:\n",
            "\u001b[0;31mKeyboardInterrupt\u001b[0m                         Traceback (most recent call last)",
            "\u001b[0;32m<ipython-input-20-d807b2b6888a>\u001b[0m in \u001b[0;36m<module>\u001b[0;34m()\u001b[0m\n\u001b[0;32m----> 1\u001b[0;31m \u001b[0ma\u001b[0m \u001b[0;34m=\u001b[0m \u001b[0minput\u001b[0m\u001b[0;34m(\u001b[0m\u001b[0;34m'첫 번째 숫자를 입력하세요 : '\u001b[0m\u001b[0;34m)\u001b[0m\u001b[0;34m\u001b[0m\u001b[0;34m\u001b[0m\u001b[0m\n\u001b[0m\u001b[1;32m      2\u001b[0m \u001b[0mb\u001b[0m \u001b[0;34m=\u001b[0m \u001b[0minput\u001b[0m\u001b[0;34m(\u001b[0m\u001b[0;34m'두 번째 숫자를 입력하세요 : '\u001b[0m\u001b[0;34m)\u001b[0m\u001b[0;34m\u001b[0m\u001b[0;34m\u001b[0m\u001b[0m\n\u001b[1;32m      3\u001b[0m \u001b[0mc\u001b[0m \u001b[0;34m=\u001b[0m \u001b[0minput\u001b[0m\u001b[0;34m(\u001b[0m\u001b[0;34m'세 번째 숫자를 입력하세요 : '\u001b[0m\u001b[0;34m)\u001b[0m\u001b[0;34m\u001b[0m\u001b[0;34m\u001b[0m\u001b[0m\n\u001b[1;32m      4\u001b[0m \u001b[0md\u001b[0m \u001b[0;34m=\u001b[0m \u001b[0minput\u001b[0m\u001b[0;34m(\u001b[0m\u001b[0;34m'네 번째 숫자를 입력하세요 : '\u001b[0m\u001b[0;34m)\u001b[0m\u001b[0;34m\u001b[0m\u001b[0;34m\u001b[0m\u001b[0m\n\u001b[1;32m      5\u001b[0m \u001b[0;34m\u001b[0m\u001b[0m\n",
            "\u001b[0;32m/usr/local/lib/python3.6/dist-packages/ipykernel/kernelbase.py\u001b[0m in \u001b[0;36mraw_input\u001b[0;34m(self, prompt)\u001b[0m\n\u001b[1;32m    702\u001b[0m             \u001b[0mself\u001b[0m\u001b[0;34m.\u001b[0m\u001b[0m_parent_ident\u001b[0m\u001b[0;34m,\u001b[0m\u001b[0;34m\u001b[0m\u001b[0;34m\u001b[0m\u001b[0m\n\u001b[1;32m    703\u001b[0m             \u001b[0mself\u001b[0m\u001b[0;34m.\u001b[0m\u001b[0m_parent_header\u001b[0m\u001b[0;34m,\u001b[0m\u001b[0;34m\u001b[0m\u001b[0;34m\u001b[0m\u001b[0m\n\u001b[0;32m--> 704\u001b[0;31m             \u001b[0mpassword\u001b[0m\u001b[0;34m=\u001b[0m\u001b[0;32mFalse\u001b[0m\u001b[0;34m,\u001b[0m\u001b[0;34m\u001b[0m\u001b[0;34m\u001b[0m\u001b[0m\n\u001b[0m\u001b[1;32m    705\u001b[0m         )\n\u001b[1;32m    706\u001b[0m \u001b[0;34m\u001b[0m\u001b[0m\n",
            "\u001b[0;32m/usr/local/lib/python3.6/dist-packages/ipykernel/kernelbase.py\u001b[0m in \u001b[0;36m_input_request\u001b[0;34m(self, prompt, ident, parent, password)\u001b[0m\n\u001b[1;32m    732\u001b[0m             \u001b[0;32mexcept\u001b[0m \u001b[0mKeyboardInterrupt\u001b[0m\u001b[0;34m:\u001b[0m\u001b[0;34m\u001b[0m\u001b[0;34m\u001b[0m\u001b[0m\n\u001b[1;32m    733\u001b[0m                 \u001b[0;31m# re-raise KeyboardInterrupt, to truncate traceback\u001b[0m\u001b[0;34m\u001b[0m\u001b[0;34m\u001b[0m\u001b[0;34m\u001b[0m\u001b[0m\n\u001b[0;32m--> 734\u001b[0;31m                 \u001b[0;32mraise\u001b[0m \u001b[0mKeyboardInterrupt\u001b[0m\u001b[0;34m\u001b[0m\u001b[0;34m\u001b[0m\u001b[0m\n\u001b[0m\u001b[1;32m    735\u001b[0m             \u001b[0;32melse\u001b[0m\u001b[0;34m:\u001b[0m\u001b[0;34m\u001b[0m\u001b[0;34m\u001b[0m\u001b[0m\n\u001b[1;32m    736\u001b[0m                 \u001b[0;32mbreak\u001b[0m\u001b[0;34m\u001b[0m\u001b[0;34m\u001b[0m\u001b[0m\n",
            "\u001b[0;31mKeyboardInterrupt\u001b[0m: "
          ]
        }
      ]
    },
    {
      "cell_type": "markdown",
      "metadata": {
        "id": "4gxNG4uyJ7P2",
        "colab_type": "text"
      },
      "source": [
        " **콤마를 활용한 출력**"
      ]
    },
    {
      "cell_type": "code",
      "metadata": {
        "id": "KhmHnRBeJ_aP",
        "colab_type": "code",
        "colab": {}
      },
      "source": [
        "name = '고려사이버대학교'\n",
        "year = 20\n",
        "student = 10000\n",
        "\n",
        "a = '학교명 : {}'.format(name)\n",
        "b = '역사 : {}년'.format(year)\n",
        "c = '학생수 : {}명'.format(student)\n",
        "\n",
        "print(a)\n",
        "print(b)\n",
        "print(c)\n",
        "print(a, b, c)\n"
      ],
      "execution_count": null,
      "outputs": []
    },
    {
      "cell_type": "markdown",
      "metadata": {
        "id": "9iXjOAavKEmb",
        "colab_type": "text"
      },
      "source": [
        "**문자열 연결기호(+)를 이용한 출력**"
      ]
    },
    {
      "cell_type": "code",
      "metadata": {
        "id": "vVwskpxLKGKz",
        "colab_type": "code",
        "colab": {}
      },
      "source": [
        "x = 20\n",
        "y = 30\n",
        "\n",
        "print('x = ' + str(x) + ', y = ' + str(y))"
      ],
      "execution_count": null,
      "outputs": []
    },
    {
      "cell_type": "markdown",
      "metadata": {
        "id": "pprgK82MKN2Q",
        "colab_type": "text"
      },
      "source": [
        "**문자열 포맷팅(%)을 이용한 출력**"
      ]
    },
    {
      "cell_type": "code",
      "metadata": {
        "id": "TgcSVtVKKKe-",
        "colab_type": "code",
        "colab": {}
      },
      "source": [
        "age1 = 30\n",
        "age2 = 40\n",
        "\n",
        "sum = age1 + age2\n",
        "avg = sum/2\n",
        "\n",
        "print('두 사람 나이 : %d, %d' % (age1, age2))\n",
        "print('합계 : %d, 평균 : %.2f' % (sum, avg))"
      ],
      "execution_count": null,
      "outputs": []
    },
    {
      "cell_type": "markdown",
      "metadata": {
        "id": "EnRAuxjJKT_5",
        "colab_type": "text"
      },
      "source": [
        "**키워드 sep을 이용한 출력**"
      ]
    },
    {
      "cell_type": "code",
      "metadata": {
        "id": "uOuPYAeqKVKA",
        "colab_type": "code",
        "colab": {}
      },
      "source": [
        "year = 2021\n",
        "month = 5\n",
        "day = 5\n",
        "\n",
        "print(year, month, day, sep='/')\n",
        "print(year, month, day, sep=',')\n",
        "print(year, month, day, sep=', ')"
      ],
      "execution_count": null,
      "outputs": []
    },
    {
      "cell_type": "markdown",
      "metadata": {
        "id": "uQWPHOM1jjsV",
        "colab_type": "text"
      },
      "source": [
        "**이번 강의도 수고 많으셨습니다. 감사합니다.**"
      ]
    }
  ]
}