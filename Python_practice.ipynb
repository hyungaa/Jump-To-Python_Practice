{
  "nbformat": 4,
  "nbformat_minor": 0,
  "metadata": {
    "colab": {
      "name": "Python_practice.ipynb",
      "provenance": [],
      "collapsed_sections": [],
      "authorship_tag": "ABX9TyOqGyOMdw6h/qWdVBYasKV4",
      "include_colab_link": true
    },
    "kernelspec": {
      "name": "python3",
      "display_name": "Python 3"
    }
  },
  "cells": [
    {
      "cell_type": "markdown",
      "metadata": {
        "id": "view-in-github",
        "colab_type": "text"
      },
      "source": [
        "<a href=\"https://colab.research.google.com/github/hyungaa/Jump-To-Python_Practice/blob/master/Python_practice.ipynb\" target=\"_parent\"><img src=\"https://colab.research.google.com/assets/colab-badge.svg\" alt=\"Open In Colab\"/></a>"
      ]
    },
    {
      "cell_type": "code",
      "metadata": {
        "colab": {
          "base_uri": "https://localhost:8080/"
        },
        "id": "H-hVE5twxR4D",
        "outputId": "cb7f82a7-e00e-49b9-9e31-2bb25c1b372a"
      },
      "source": [
        "multiline = \"Life is too short\\tYou need python\"\r\n",
        "print(multiline)"
      ],
      "execution_count": 2,
      "outputs": [
        {
          "output_type": "stream",
          "text": [
            "Life is too short\tYou need python\n"
          ],
          "name": "stdout"
        }
      ]
    },
    {
      "cell_type": "code",
      "metadata": {
        "colab": {
          "base_uri": "https://localhost:8080/"
        },
        "id": "hDzaiCAY2hF1",
        "outputId": "3a9175a2-72c3-4230-c8a5-723a8be46666"
      },
      "source": [
        "#문자열 포매팅\r\n",
        "a = \"I eat {0} apples\".format(\"five\")\r\n",
        "print(a)\r\n",
        "\r\n",
        "name = '홍길동'\r\n",
        "age = 30\r\n",
        "b = f'나의 이름은 {name}입니다. 나이는 {age}입니다.'\r\n",
        "print(b)\r\n",
        "\r\n",
        "d = {'name':'홍길동', 'age':30}\r\n",
        "c = f'나의 이름은 {d[\"name\"]}입니다. 나이는 {d[\"age\"]}입니다.'\r\n",
        "print(c)"
      ],
      "execution_count": 8,
      "outputs": [
        {
          "output_type": "stream",
          "text": [
            "I eat five apples\n",
            "나의 이름은 홍길동입니다. 나이는 30입니다.\n",
            "나의 이름은 홍길동입니다. 나이는 30입니다.\n"
          ],
          "name": "stdout"
        }
      ]
    },
    {
      "cell_type": "code",
      "metadata": {
        "colab": {
          "base_uri": "https://localhost:8080/"
        },
        "id": "ePpIe5qN6EMe",
        "outputId": "fe0c8cf0-a92a-4b62-c29a-0515104c72ce"
      },
      "source": [
        "print(\",\".join('abcd'))\r\n",
        "print(\",\".join(['a', 'b', 'c', 'd']))  #join"
      ],
      "execution_count": 13,
      "outputs": [
        {
          "output_type": "stream",
          "text": [
            "a,b,c,d\n",
            "a,b,c,d\n"
          ],
          "name": "stdout"
        }
      ]
    },
    {
      "cell_type": "code",
      "metadata": {
        "colab": {
          "base_uri": "https://localhost:8080/"
        },
        "id": "YbOVZoWW6Omd",
        "outputId": "d1dfa893-e502-451e-81b0-d9612a0a5cab"
      },
      "source": [
        "a = \"hi\"\r\n",
        "print(a.upper())  #소문자 : lower()"
      ],
      "execution_count": 12,
      "outputs": [
        {
          "output_type": "stream",
          "text": [
            "HI\n"
          ],
          "name": "stdout"
        }
      ]
    },
    {
      "cell_type": "code",
      "metadata": {
        "colab": {
          "base_uri": "https://localhost:8080/"
        },
        "id": "RN7AO2cK6aK3",
        "outputId": "0035dba2-2152-42d3-a4fe-9afc77f0de3c"
      },
      "source": [
        "a = \" hi \"\r\n",
        "print(a.lstrip()) # 왼쪽 공백 없애기\r\n",
        "print(a.rstrip()) # 오른쪽 공백 없애기\r\n",
        "print(a.strip())  # 양쪽 공백 없애기"
      ],
      "execution_count": 15,
      "outputs": [
        {
          "output_type": "stream",
          "text": [
            "hi \n",
            " hi\n",
            "hi\n"
          ],
          "name": "stdout"
        }
      ]
    },
    {
      "cell_type": "code",
      "metadata": {
        "colab": {
          "base_uri": "https://localhost:8080/"
        },
        "id": "a3M-WD6K65lh",
        "outputId": "bf4f16c5-17b9-4380-e327-d49f043c8afd"
      },
      "source": [
        "a = \"Life is too short\"\r\n",
        "print(a.replace(\"Life\", \"Your leg\"))  #문자열 바꾸기\r\n",
        "\r\n",
        "print(a.split()) # 문자열 나누기 ; 공백기준으로 나눔\r\n",
        "b = \"a:b:c:d\"\r\n",
        "print(b.split(':')) "
      ],
      "execution_count": 18,
      "outputs": [
        {
          "output_type": "stream",
          "text": [
            "Your leg is too short\n",
            "['Life', 'is', 'too', 'short']\n",
            "['a', 'b', 'c', 'd']\n"
          ],
          "name": "stdout"
        }
      ]
    },
    {
      "cell_type": "code",
      "metadata": {
        "id": "56WQOj2Y79Pz"
      },
      "source": [
        "\r\n"
      ],
      "execution_count": null,
      "outputs": []
    }
  ]
}